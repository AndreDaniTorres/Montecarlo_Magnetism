{
 "cells": [
  {
   "cell_type": "code",
   "execution_count": 1,
   "metadata": {},
   "outputs": [],
   "source": [
    "import utils\n",
    "import numpy as np\n",
    "import matplotlib.pyplot as plt"
   ]
  },
  {
   "cell_type": "code",
   "execution_count": 38,
   "metadata": {},
   "outputs": [],
   "source": [
    "# numero cuantico m, m = -J,-J+1,-J+2,...,J-1,J\n",
    "m_numbers = lambda J: np.arange(-J, J+1)\n",
    "\n",
    "\n",
    "def build_system(SIZE, m):\n",
    "\n",
    "    \"\"\"Microestado inicial aleatorio. Crea una red triangular\"\"\"\n",
    "\n",
    "    num_rows, num_cols = SIZE, SIZE\n",
    "\n",
    "    # Create an empty triangular lattice\n",
    "    lattice = np.zeros((num_rows, num_cols))\n",
    "\n",
    "    # Accessing each site in the lattice\n",
    "    for i in range(num_rows):\n",
    "        for j in range(num_cols):\n",
    "            if int(i % 2) == 0:  # For even rows\n",
    "                if int(j % 2) == 0:  # For even columns\n",
    "                    # Example: Assign a value to the site\n",
    "                    lattice[i, j] = np.random.choice(m)\n",
    "            else:  # For odd rows\n",
    "                if int(j % 2) != 0:  # For odd columns\n",
    "                    # Example: Assign a value to the site\n",
    "                    lattice[i, j] = np.random.choice(m)\n",
    "\n",
    "    return lattice\n",
    "\n",
    "\n",
    "def metropolis(config,J,B,T):\n",
    "\n",
    "    \"\"\" Algoritmo de metropolis \n",
    "    config = Configuracion del sistema\n",
    "    m = número cuantico m\n",
    "    J = Parametro de intercambio\n",
    "    B = Campo magnetico externo\n",
    "    T = Temperatura\n",
    "    \"\"\"\n",
    "\n",
    "    E = 0 #Energía\n",
    "    L = len(config) # Tamaño \n",
    "    for i in range(L):\n",
    "        for j in range(L):\n",
    "\n",
    "            conf_i = config[i, j] \n",
    "\n",
    "            # sitios vecinos\n",
    "            conf_j = config[(i+1)%L, (j+1)%L] +  config[(i+1)%L, (j-1)%L] + config[(i-1)%L, (j-1)%L] + config[(i-1)%L, (j+1)%L]\n",
    "\n",
    "            # Energia inicial del sitio\n",
    "            Ei = -J*np.dot(conf_i,conf_j) - conf_i*B \n",
    "\n",
    "            # Fluctuar el espín del sitio seleccionado\n",
    "            conf_trial = config[i, j] * -1\n",
    "\n",
    "            # Calculo de Energia luego de perturbar el vector a evaluar\n",
    "            Ef = -J*np.dot(conf_trial,conf_j) - conf_trial*B \n",
    "            \n",
    "            # Diferencia entre energia luego de perturbar el sitio y energia inicial\n",
    "            Delta_E = Ef - Ei \n",
    "\n",
    "            # Criterio de montecarlo, si minimiza la energia permitir la perturbacion\n",
    "            if Delta_E <= 0 or np.random.rand() <= np.exp(-Delta_E/T): \n",
    "                conf_i = conf_trial\n",
    "                E += Delta_E\n",
    "\n",
    "            # almacena la configuracion que cumple la condición\n",
    "            config[i, j] = conf_i \n",
    "\n",
    "    return config, E"
   ]
  },
  {
   "cell_type": "code",
   "execution_count": 39,
   "metadata": {},
   "outputs": [
    {
     "data": {
      "text/plain": [
       "array([[-0.5,  0. ,  0.5, ...,  0. ,  0.5,  0. ],\n",
       "       [ 0. , -0.5,  0. , ..., -0.5,  0. ,  0.5],\n",
       "       [ 0.5,  0. ,  0.5, ...,  0. ,  0.5,  0. ],\n",
       "       ...,\n",
       "       [ 0. ,  0.5,  0. , ...,  0.5,  0. , -0.5],\n",
       "       [ 0.5,  0. , -0.5, ...,  0. , -0.5,  0. ],\n",
       "       [ 0. ,  0.5,  0. , ...,  0.5,  0. , -0.5]])"
      ]
     },
     "execution_count": 39,
     "metadata": {},
     "output_type": "execute_result"
    }
   ],
   "source": [
    "build_system(100, m_numbers(1/2))"
   ]
  },
  {
   "cell_type": "code",
   "execution_count": 40,
   "metadata": {},
   "outputs": [],
   "source": [
    "def montecarlo_step(config,J,B,T):\n",
    "    '''\n",
    "    Funcion que permite implementar la funcion de montecarlo, calculo de energia total, magnetizacion promedio\n",
    "    config = Configuracion a evolucionar.\n",
    "    m = Lista de numero cuantico m\n",
    "    J = Parametro de intercambio\n",
    "    B = Campo magnetico externo\n",
    "    T = Temperatura \n",
    "    '''\n",
    "    # número máximo de pasos de montecarlo\n",
    "    MCSmax = 100\n",
    "\n",
    "    # Energía\n",
    "    Energy = 0 \n",
    "    Energy2 = 0\n",
    "\n",
    "    # Magnetización\n",
    "    Magnetiz = 0\n",
    "\n",
    "    # criterio de estabilidad en la medida\n",
    "    to = int(MCSmax/2)\n",
    "\n",
    "    for mcs in range(MCSmax):\n",
    "        # evolución del sistema\n",
    "        config, energy = metropolis(config,J,B,T) \n",
    "        \n",
    "        if mcs > to: \n",
    "            Magnetiz += np.sum(config) # calculo de magnetizacion\n",
    "            Energy += energy\n",
    "            Energy2 += energy**2\n",
    "    \n",
    "    Magnetiz = Magnetiz/(MCSmax-to) # Magnetizacion promedio\n",
    "    Energy = Energy/(MCSmax-to)     # Energía promedio\n",
    "    Energy2 = Energy2/(MCSmax-to)\n",
    "\n",
    "    return Magnetiz, Energy, Energy2\n",
    "\n",
    "\n",
    "\n",
    "def main(s,J,B,T):\n",
    "\n",
    "    \"\"\"\n",
    "    Función pincipal que ejecuta el algoritmo de Metropolis\n",
    "    para distintos valores de temperatura\n",
    "    Retorna un array de la magnetización y energía promedio\n",
    "    s = Spin\n",
    "    J = Parametro de intercambio\n",
    "    B = Campo magnetico externo\n",
    "    T = Temperatura\n",
    "    \"\"\"\n",
    "\n",
    "    SIZE=100\n",
    "\n",
    "    m = m_numbers(s)\n",
    "\n",
    "    # Configuracion inicial    \n",
    "    config_i = build_system(SIZE, m) \n",
    "    \n",
    "    # Magnetizacion\n",
    "    M = [] \n",
    "\n",
    "    # Energía\n",
    "    E = [] \n",
    "    E2 = [] \n",
    "\n",
    "    # recorre los valores de temperatura \n",
    "    for i,t in enumerate(T): \n",
    "\n",
    "        # barra de progreso\n",
    "        utils.progressBar(i+1, len(T))\n",
    "\n",
    "        # evoluciona el sistema \n",
    "        Magnetiz, Energy, Energy2 = montecarlo_step(config_i, J, B, t) \n",
    "        \n",
    "        M.append(Magnetiz)\n",
    "        E.append(Energy)\n",
    "        E2.append(Energy2)\n",
    "        \n",
    "    \n",
    "    return np.array(M), np.array(E), np.array(E2)"
   ]
  },
  {
   "cell_type": "code",
   "execution_count": 41,
   "metadata": {},
   "outputs": [],
   "source": [
    "def frustated():\n",
    "\n",
    "    \"\"\"\n",
    "    Ejecuta el algoritmo principal con distintos \n",
    "    valores de temperatura. Guarda archivos con temperatura \n",
    "    vs. Magnetización\n",
    "    \"\"\"\n",
    "\n",
    "    B=0\n",
    "\n",
    "    # Temperatura\n",
    "    T  = np.linspace(1.5,0.001,200)\n",
    "    M, E, E2 = main(s=1/2, J=-1, B=B, T=T)\n",
    "\n",
    "    utils.save_lists_as_columns(f\"MvsT_antiferro2.txt\", T, M)\n",
    "    utils.save_lists_as_columns(f\"T_E_antiferro.txt\", T, np.column_stack((E, E2)))"
   ]
  },
  {
   "cell_type": "code",
   "execution_count": 42,
   "metadata": {},
   "outputs": [
    {
     "name": "stdout",
     "output_type": "stream",
     "text": [
      " |████████████████████████████████████████████████████████████████████████████████████████████████████| 100.0% \n"
     ]
    }
   ],
   "source": [
    "frustated()"
   ]
  },
  {
   "cell_type": "code",
   "execution_count": 45,
   "metadata": {},
   "outputs": [],
   "source": [
    "def graph():\n",
    "    data = np.loadtxt(f\"MvsT_antiferro.txt\").T\n",
    "    max = np.max(data[1])\n",
    "    plt.plot(data[0], data[1]/max, alpha=0.5, c=\"b\") \n",
    "    plt.xlabel(\"T\")\n",
    "    plt.ylabel(\"<M>/M_max\")\n",
    "    plt.grid()"
   ]
  },
  {
   "cell_type": "code",
   "execution_count": 46,
   "metadata": {},
   "outputs": [
    {
     "data": {
      "image/png": "[encoded data removed]",
      "text/plain": [
       "<Figure size 640x480 with 1 Axes>"
      ]
     },
     "metadata": {},
     "output_type": "display_data"
    }
   ],
   "source": [
    "graph()"
   ]
  },
  {
   "cell_type": "code",
   "execution_count": null,
   "metadata": {},
   "outputs": [],
   "source": []
  }
 ],
 "metadata": {
  "kernelspec": {
   "display_name": "xm_env",
   "language": "python",
   "name": "python3"
  },
  "language_info": {
   "codemirror_mode": {
    "name": "ipython",
    "version": 3
   },
   "file_extension": ".py",
   "mimetype": "text/x-python",
   "name": "python",
   "nbconvert_exporter": "python",
   "pygments_lexer": "ipython3",
   "version": "3.11.0"
  },
  "orig_nbformat": 4
 },
 "nbformat": 4,
 "nbformat_minor": 2
}
